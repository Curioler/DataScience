{
 "cells": [
  {
   "cell_type": "code",
   "execution_count": null,
   "metadata": {},
   "outputs": [],
   "source": [
    "#Coin flip experiment\n",
    "\n",
    "#Probability of heads\n",
    "\n",
    "#Sample space\n",
    "flip = {\"H\",\"T\"}\n",
    "total_outcomes = len(flip)\n",
    "\n",
    "#Event\n",
    "heads = {\"H\"}\n",
    "fav_outcomes = len(heads)\n",
    "\n",
    "#Probability calculation\n",
    "p_heads = fav_outcomes/total_outcomes\n",
    "print(\"Probability of a heads:\", p_heads)"
   ]
  },
  {
   "cell_type": "code",
   "execution_count": null,
   "metadata": {},
   "outputs": [],
   "source": [
    "#Flip the coin twice\n",
    "\n",
    "experiment = {\"HH\",\"HT\",\"TH\",\"TT\"}\n",
    "total_outcomes = len(experiment)\n",
    "\n",
    "heads = {\"HH\",\"HT\",\"TH\"}\n",
    "fav_outcomes = len(heads)\n",
    "\n",
    "p_heads = fav_outcomes/total_outcomes\n",
    "print(\"Probability of a heads:\", p_heads)"
   ]
  },
  {
   "cell_type": "code",
   "execution_count": null,
   "metadata": {},
   "outputs": [],
   "source": [
    "#Flip the coin thrice\n",
    "\n",
    "#Measure the number of heads\n",
    "sample_space = {0,1,2,3} #Basically the order doesn't matter here\n",
    "\n",
    "#Event\n",
    "heads = {1,2,3}\n",
    "fav_outcomes = len(heads)\n",
    "\n",
    "#Probability calculation\n",
    "p_heads = fav_outcomes/total_outcomes\n",
    "print(\"Probability of a heads:\", p_heads)\n",
    "\n",
    "#Anything wrong with this calculation?"
   ]
  },
  {
   "cell_type": "code",
   "execution_count": null,
   "metadata": {},
   "outputs": [],
   "source": [
    "\"\"\"\n",
    "If three fair coins are tossed randomly 175 times\n",
    "and it is found that three heads appeared 21 times, \n",
    "two heads appeared 56 times, \n",
    "one head appeared 63 times and \n",
    "zero head appeared 35 times.\n",
    "\n",
    "What is the probability of getting\n",
    "\n",
    "(i) three heads, (ii) two heads, (iii) one head, (iv) 0 head.\n",
    "\n",
    "\"\"\"\n",
    "#Solution:\n",
    "\n",
    "total_trials = 175\n",
    "\n",
    "#Events\n",
    "three_heads = 21\n",
    "\n",
    "two_heads = 56\n",
    "\n",
    "one_heads = 63\n",
    "\n",
    "zero_heads = 35\n",
    "\n",
    "#Probability calculation\n",
    "\n",
    "#Probability of three heads\n",
    "p_three_heads = three_heads/total_trials\n",
    "print(\"Probability of three heads:\", p_three_heads)\n",
    "\n",
    "#Probability of two heads\n",
    "p_two_heads = two_heads/total_trials\n",
    "print(\"Probability of two heads:\", p_two_heads)\n",
    "\n",
    "#Probability of one heads\n",
    "p_one_heads = one_heads/total_trials\n",
    "print(\"Probability of one heads:\", p_one_heads)\n",
    "\n",
    "#Probability of zero heads\n",
    "p_zero_heads = zero_heads/total_trials\n",
    "print(\"Probability of zero heads:\", p_zero_heads)\n",
    "\n",
    "\n",
    "#Remember when 3 coins are tossed randomly, the only possible outcomes are 0,1,2 or 3 heads\n",
    "\n",
    "#Let's check something\n",
    "\n",
    "print((p_zero_heads + p_one_heads + p_two_heads + p_three_heads) == 1)"
   ]
  },
  {
   "cell_type": "code",
   "execution_count": 4,
   "metadata": {},
   "outputs": [
    {
     "name": "stdout",
     "output_type": "stream",
     "text": [
      "Probability of heads: 0.4934\n"
     ]
    }
   ],
   "source": [
    "#Simulation games 1\n",
    "\n",
    "import random\n",
    "\n",
    "#random.seed(7)\n",
    "\n",
    "#Experiment: Coin toss\n",
    "#Event: Heads\n",
    "\n",
    "outcomes=[]\n",
    "\n",
    "n=10000\n",
    "\n",
    "for x in range(n):\n",
    "    a = random.randrange(0,2)\n",
    "    outcomes.append(a)\n",
    "\n",
    "print(\"Probability of heads:\", sum(outcomes)/len(outcomes))"
   ]
  },
  {
   "cell_type": "code",
   "execution_count": 153,
   "metadata": {},
   "outputs": [
    {
     "name": "stdout",
     "output_type": "stream",
     "text": [
      "Probability of zero heads: 0.0\n",
      "Probability of one heads: 0.9\n",
      "Probability of two heads: 0.1\n"
     ]
    }
   ],
   "source": [
    "#Simulation games 2\n",
    "\n",
    "#random.seed(7)\n",
    "\n",
    "#Experiment: Two Coin tosses\n",
    "#Event: Heads\n",
    "\n",
    "outcomes1=[]\n",
    "outcomes2=[]\n",
    "\n",
    "n=10\n",
    "\n",
    "for x in range(n):\n",
    "    a = random.randrange(0,2)\n",
    "    b = random.randrange(0,2)\n",
    "    outcomes1.append(a)\n",
    "    outcomes2.append(b)\n",
    "\n",
    "outcomes = zip(outcomes1, outcomes2)\n",
    "\n",
    "outcomes_heads = []\n",
    "\n",
    "for p,q in iter(outcomes):\n",
    "    m = p+q\n",
    "    outcomes_heads.append(m)\n",
    "\n",
    "zeros = outcomes_heads.count(0)\n",
    "ones = outcomes_heads.count(1)\n",
    "twos = outcomes_heads.count(2)\n",
    "    \n",
    "print(\"Probability of zero heads:\", zeros/n)\n",
    "print(\"Probability of one heads:\", ones/n)\n",
    "print(\"Probability of two heads:\", twos/n)"
   ]
  },
  {
   "cell_type": "code",
   "execution_count": 262,
   "metadata": {},
   "outputs": [
    {
     "name": "stdout",
     "output_type": "stream",
     "text": [
      "Probability of one : 0.22\n",
      "Probability of two : 0.21\n",
      "Probability of three : 0.15\n",
      "Probability of four : 0.17\n",
      "Probability of five : 0.15\n",
      "Probability of six : 0.1\n"
     ]
    }
   ],
   "source": [
    "#Simulation games 3\n",
    "\n",
    "#random.seed(7)\n",
    "\n",
    "#Experiment: Rolling the dice\n",
    "#Event: Numbers\n",
    "\n",
    "outcomes=[]\n",
    "\n",
    "n=100\n",
    "\n",
    "for x in range(n):\n",
    "    a = random.randrange(1,7)\n",
    "    outcomes.append(a)\n",
    "\n",
    "one = outcomes.count(1)\n",
    "two = outcomes.count(2)\n",
    "three = outcomes.count(3)\n",
    "four = outcomes.count(4)\n",
    "five = outcomes.count(5)\n",
    "six = outcomes.count(6)\n",
    "\n",
    "str_number = [\"one\",\"two\", \"three\",\"four\",\"five\",\"six\"]\n",
    "\n",
    "for t in str_number:\n",
    "    print(\"Probability of\",t,\":\",eval(t)/n)"
   ]
  },
  {
   "cell_type": "code",
   "execution_count": 267,
   "metadata": {},
   "outputs": [
    {
     "name": "stdout",
     "output_type": "stream",
     "text": [
      "Odd numbers: 52\n",
      "Even numbers: 48\n",
      "Probability of odd numbers: 0.52\n",
      "Probability of even numbers: 0.48\n"
     ]
    }
   ],
   "source": [
    "odd_numbers = one + three + five\n",
    "print(\"Odd numbers:\", odd_numbers)\n",
    "\n",
    "even_numbers = two + four + six\n",
    "print(\"Even numbers:\", even_numbers)\n",
    "\n",
    "print(\"Probability of odd numbers:\", odd_numbers/n)\n",
    "print(\"Probability of even numbers:\", even_numbers/n)"
   ]
  },
  {
   "cell_type": "code",
   "execution_count": 292,
   "metadata": {},
   "outputs": [
    {
     "name": "stdout",
     "output_type": "stream",
     "text": [
      "Probability that the sum is 0 : 0.0\n",
      "Probability that the sum is 1 : 0.0\n",
      "Probability that the sum is 2 : 0.028266\n",
      "Probability that the sum is 3 : 0.055716\n",
      "Probability that the sum is 4 : 0.082743\n",
      "Probability that the sum is 5 : 0.111015\n",
      "Probability that the sum is 6 : 0.138972\n",
      "Probability that the sum is 7 : 0.166029\n",
      "Probability that the sum is 8 : 0.138826\n",
      "Probability that the sum is 9 : 0.111397\n",
      "Probability that the sum is 10 : 0.083322\n",
      "Probability that the sum is 11 : 0.055657\n"
     ]
    }
   ],
   "source": [
    "#Simulation games 4\n",
    "\n",
    "#random.seed(7)\n",
    "\n",
    "#Experiment: Rolling two dices\n",
    "#Event: Two numbers\n",
    "\n",
    "outcomes1=[]\n",
    "outcomes2=[]\n",
    "\n",
    "n=1000000\n",
    "\n",
    "for x in range(n):\n",
    "    a = random.randrange(1,7)\n",
    "    b = random.randrange(1,7)\n",
    "    outcomes1.append(a)\n",
    "    outcomes2.append(b)\n",
    "\n",
    "outcomes = zip(outcomes1, outcomes2)\n",
    "\n",
    "outcomes_sum = []\n",
    "\n",
    "for p,q in iter(outcomes):\n",
    "    m = p+q\n",
    "    outcomes_sum.append(m)\n",
    "\n",
    "def pairs_with_a_sum(sum_n):\n",
    "    return outcomes_sum.count(sum_n)\n",
    "    \n",
    "    \n",
    "for sum in range(12):\n",
    "    print(\"Probability that the sum is\", sum, \":\", pairs_with_a_sum(sum)/n)"
   ]
  },
  {
   "cell_type": "code",
   "execution_count": 11,
   "metadata": {},
   "outputs": [
    {
     "name": "stdout",
     "output_type": "stream",
     "text": [
      "Please input the list of cards that you want to check: [('J', 'Hearts')]\n",
      "Probability of having specified cards 0.0\n"
     ]
    }
   ],
   "source": [
    "#Simulation games 5\n",
    "\n",
    "#random.seed(7)\n",
    "\n",
    "#Experiment: Drawing a card from a well shuffled deck\n",
    "#Event: A particular card\n",
    "\n",
    "#Drawing a card with replacement\n",
    "\n",
    "outcomes1=[]\n",
    "outcomes2=[]\n",
    "\n",
    "n=1000\n",
    "\n",
    "cards = [\"A\",2,3,4,5,6,7,8,9,10,\"J\",\"Q\",\"K\"]\n",
    "card_types = [\"Club\",\"Diamonds\",\"Hearts\",\"Spades\"]\n",
    "\n",
    "for x in range(n):\n",
    "    a = random.randrange(13)\n",
    "    b = random.randrange(4)\n",
    "    outcomes1.append(cards[a])\n",
    "    outcomes2.append(card_types[b])\n",
    "\n",
    "outcomes = zip(outcomes1, outcomes2)\n",
    "\n",
    "outcomes_cards = []\n",
    "\n",
    "for p,q in iter(outcomes):\n",
    "    m = tuple([p,q])\n",
    "    outcomes_cards.append(m)\n",
    "\n",
    "check_cards = input(\"Please input the list of cards that you want to check: \")\n",
    "\n",
    "counter = 0\n",
    "\n",
    "for card in check_cards:\n",
    "    l = outcomes_cards.count(card)    \n",
    "    counter += l \n",
    "\n",
    "print(\"Probability of having specified cards\", l/n)"
   ]
  },
  {
   "cell_type": "code",
   "execution_count": null,
   "metadata": {},
   "outputs": [],
   "source": []
  }
 ],
 "metadata": {
  "kernelspec": {
   "display_name": "Python 3",
   "language": "python",
   "name": "python3"
  },
  "language_info": {
   "codemirror_mode": {
    "name": "ipython",
    "version": 3
   },
   "file_extension": ".py",
   "mimetype": "text/x-python",
   "name": "python",
   "nbconvert_exporter": "python",
   "pygments_lexer": "ipython3",
   "version": "3.6.5"
  }
 },
 "nbformat": 4,
 "nbformat_minor": 2
}

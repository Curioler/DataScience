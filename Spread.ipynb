{
 "cells": [
  {
   "cell_type": "code",
   "execution_count": 19,
   "metadata": {},
   "outputs": [
    {
     "data": {
      "image/png": "[encoded data removed]",
      "text/plain": [
       "<Figure size 432x288 with 1 Axes>"
      ]
     },
     "metadata": {},
     "output_type": "display_data"
    }
   ],
   "source": [
    "import matplotlib.pyplot as plt\n",
    "\n",
    "import numpy as np\n",
    "\n",
    "normal = np.random.normal(0,1,100)\n",
    "\n",
    "plt.hist(normal)\n",
    "plt.show()"
   ]
  },
  {
   "cell_type": "code",
   "execution_count": 23,
   "metadata": {},
   "outputs": [],
   "source": [
    "import numpy as np\n",
    "\n",
    "normal = np.random.normal(0,1,100)\n",
    "\n",
    "mean = np.mean(normal)\n",
    "std = np.std(normal)"
   ]
  },
  {
   "cell_type": "code",
   "execution_count": 24,
   "metadata": {},
   "outputs": [
    {
     "name": "stdout",
     "output_type": "stream",
     "text": [
      "69.0\n"
     ]
    }
   ],
   "source": [
    "import numpy as np\n",
    "\n",
    "normal = np.random.normal(0,1,100)\n",
    "\n",
    "mean = np.mean(normal)\n",
    "std = np.std(normal)\n",
    "\n",
    "one_sigma_left = normal < (mean - std)\n",
    "one_sigma_right = normal > (mean + std)\n",
    "\n",
    "one_sigma_count =  sum(one_sigma_left) + sum(one_sigma_right)\n",
    "\n",
    "covered_points = len(normal) - one_sigma_count\n",
    "\n",
    "proportion_covered = covered_points * 100 / len(normal)\n",
    "\n",
    "print(proportion_covered)"
   ]
  },
  {
   "cell_type": "code",
   "execution_count": 26,
   "metadata": {},
   "outputs": [
    {
     "name": "stdout",
     "output_type": "stream",
     "text": [
      "96.0\n"
     ]
    }
   ],
   "source": [
    "import numpy as np\n",
    "\n",
    "normal = np.random.normal(0,1,100)\n",
    "\n",
    "mean = np.mean(normal)\n",
    "std = np.std(normal)\n",
    "\n",
    "one_sigma_left = normal < (mean - 2*std)\n",
    "one_sigma_right = normal > (mean + 2*std)\n",
    "\n",
    "one_sigma_count =  sum(one_sigma_left) + sum(one_sigma_right)\n",
    "\n",
    "covered_points = len(normal) - one_sigma_count\n",
    "\n",
    "proportion_covered = covered_points * 100 / len(normal)\n",
    "\n",
    "print(proportion_covered)"
   ]
  },
  {
   "cell_type": "code",
   "execution_count": 25,
   "metadata": {},
   "outputs": [
    {
     "name": "stdout",
     "output_type": "stream",
     "text": [
      "77.0\n"
     ]
    }
   ],
   "source": [
    "import numpy as np\n",
    "\n",
    "exponential = np.random.exponential(1,100)\n",
    "\n",
    "mean = np.mean(exponential)\n",
    "std = np.std(exponential)\n",
    "\n",
    "one_sigma_left = exponential < (mean - std)\n",
    "one_sigma_right = exponential > (mean + std)\n",
    "\n",
    "one_sigma_count =  sum(one_sigma_left) + sum(one_sigma_right)\n",
    "\n",
    "covered_points = len(normal) - one_sigma_count\n",
    "\n",
    "proportion_covered = covered_points * 100 / len(normal)\n",
    "\n",
    "print(proportion_covered)"
   ]
  },
  {
   "cell_type": "code",
   "execution_count": 31,
   "metadata": {},
   "outputs": [
    {
     "name": "stdout",
     "output_type": "stream",
     "text": [
      "95.0\n"
     ]
    },
    {
     "data": {
      "image/png": "[encoded data removed]",
      "text/plain": [
       "<Figure size 432x288 with 1 Axes>"
      ]
     },
     "metadata": {},
     "output_type": "display_data"
    }
   ],
   "source": [
    "import numpy as np\n",
    "\n",
    "exponential = np.random.exponential(1,100)\n",
    "\n",
    "mean = np.mean(exponential)\n",
    "std = np.std(exponential)\n",
    "\n",
    "one_sigma_left = exponential < (mean - 2*std)\n",
    "one_sigma_right = exponential > (mean + 2*std)\n",
    "\n",
    "one_sigma_count =  sum(one_sigma_left) + sum(one_sigma_right)\n",
    "\n",
    "covered_points = len(normal) - one_sigma_count\n",
    "\n",
    "proportion_covered = covered_points * 100 / len(normal)\n",
    "\n",
    "print(proportion_covered)\n",
    "\n",
    "plt.hist(exponential)\n",
    "plt.show()"
   ]
  },
  {
   "cell_type": "code",
   "execution_count": 38,
   "metadata": {},
   "outputs": [],
   "source": [
    "#Let's create a function\n",
    "\n",
    "def normal_points_covered(mean, sigma, sample_size, sigma_spread):\n",
    "    \n",
    "    import numpy as np\n",
    "\n",
    "    sample = np.random.normal(mean,sigma,sample_size)\n",
    "\n",
    "    mean = np.mean(sample)\n",
    "    std = np.std(sample)\n",
    "\n",
    "    one_sigma_left = sample < (mean - sigma_spread*std)\n",
    "    one_sigma_right = sample > (mean + sigma_spread*std)\n",
    "\n",
    "    one_sigma_count =  sum(one_sigma_left) + sum(one_sigma_right)\n",
    "\n",
    "    covered_points = len(sample) - one_sigma_count\n",
    "\n",
    "    proportion_covered = covered_points * 100 / len(sample)\n",
    "\n",
    "    print(\"Points covered within\",sigma_spread,\"sigma limits:\", proportion_covered)\n",
    "    \n",
    "    plt.hist(sample)\n",
    "    plt.show()"
   ]
  },
  {
   "cell_type": "code",
   "execution_count": 41,
   "metadata": {},
   "outputs": [
    {
     "name": "stdout",
     "output_type": "stream",
     "text": [
      "Points covered within 1 sigma limits: 69.0\n"
     ]
    },
    {
     "data": {
      "image/png": "[encoded data removed]",
      "text/plain": [
       "<Figure size 432x288 with 1 Axes>"
      ]
     },
     "metadata": {},
     "output_type": "display_data"
    }
   ],
   "source": [
    "normal_points_covered(0,1,100,1)"
   ]
  }
 ],
 "metadata": {
  "kernelspec": {
   "display_name": "Python 3",
   "language": "python",
   "name": "python3"
  },
  "language_info": {
   "codemirror_mode": {
    "name": "ipython",
    "version": 3
   },
   "file_extension": ".py",
   "mimetype": "text/x-python",
   "name": "python",
   "nbconvert_exporter": "python",
   "pygments_lexer": "ipython3",
   "version": "3.6.5"
  }
 },
 "nbformat": 4,
 "nbformat_minor": 2
}

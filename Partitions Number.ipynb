{
 "cells": [
  {
   "cell_type": "code",
   "execution_count": 98,
   "metadata": {},
   "outputs": [],
   "source": [
    "import numpy as np\n",
    "import pandas as pd\n",
    "n=8\n",
    "int_list = np.arange(n)\n",
    "df = pd.DataFrame({'x':int_list})\n",
    "df['key']=0"
   ]
  },
  {
   "cell_type": "code",
   "execution_count": 99,
   "metadata": {},
   "outputs": [
    {
     "name": "stderr",
     "output_type": "stream",
     "text": [
      "C:\\ProgramData\\Anaconda3\\lib\\site-packages\\ipykernel_launcher.py:10: FutureWarning: from_items is deprecated. Please use DataFrame.from_dict(dict(items), ...) instead. DataFrame.from_dict(OrderedDict(items)) may be used to preserve the key order.\n",
      "  # Remove the CWD from sys.path while we load stuff.\n"
     ]
    },
    {
     "data": {
      "text/plain": [
       "22"
      ]
     },
     "execution_count": 99,
     "metadata": {},
     "output_type": "execute_result"
    }
   ],
   "source": [
    "df1 = df.copy()\n",
    "for i in range(n-1):\n",
    "    df1 = pd.merge(df1,df,on='key')\n",
    "df1 = df1.drop('key', axis=1)\n",
    "df1['psum'] = df1.sum(axis=1)\n",
    "df2 = df1[df1['psum']==n].drop('psum', axis=1)\n",
    "\n",
    "df3 = df2.apply(sorted, axis=1).reset_index(drop=True)\n",
    "df3\n",
    "df4 = pd.DataFrame.from_items(zip(df3.index, df3.values)).T\n",
    "df4.drop_duplicates().shape[0]+1"
   ]
  }
 ],
 "metadata": {
  "kernelspec": {
   "display_name": "Python 3",
   "language": "python",
   "name": "python3"
  },
  "language_info": {
   "codemirror_mode": {
    "name": "ipython",
    "version": 3
   },
   "file_extension": ".py",
   "mimetype": "text/x-python",
   "name": "python",
   "nbconvert_exporter": "python",
   "pygments_lexer": "ipython3",
   "version": "3.7.4"
  }
 },
 "nbformat": 4,
 "nbformat_minor": 2
}
